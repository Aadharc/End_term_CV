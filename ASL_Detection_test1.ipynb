{
 "cells": [
  {
   "cell_type": "code",
   "execution_count": 8,
   "metadata": {},
   "outputs": [],
   "source": [
    "import cv2\n",
    "stream = cv2.VideoCapture(0) # 0 means read from local camera.\n",
    "import cv2\n",
    "\n",
    "cam = cv2.VideoCapture(0)\n",
    "\n",
    "while True:\n",
    "    check, frame = cam.read()\n",
    "\n",
    "    cv2.imshow('video', frame)\n",
    "\n",
    "    key = cv2.waitKey(1)\n",
    "    if key == ord('q'):\n",
    "        break\n",
    "\n",
    "cam.release()\n",
    "cv2.destroyAllWindows()"
   ]
  },
  {
   "cell_type": "code",
   "execution_count": 9,
   "metadata": {},
   "outputs": [
    {
     "name": "stderr",
     "output_type": "stream",
     "text": [
      "Downloading: \"https://github.com/ultralytics/yolov5/archive/master.zip\" to C:\\Users\\aadha/.cache\\torch\\hub\\master.zip\n",
      "YOLOv5  2022-3-7 torch 1.10.2+cpu CPU\n",
      "\n",
      "Fusing layers... \n",
      "Model Summary: 213 layers, 7225885 parameters, 0 gradients, 16.5 GFLOPs\n",
      "Adding AutoShape... \n"
     ]
    }
   ],
   "source": [
    "import torch\n",
    "import pandas\n",
    "import torchvision\n",
    "import yaml\n",
    "import seaborn\n",
    "# import \n",
    "from torch import hub # Hub contains other models like FasterRCNN\n",
    "model = torch.hub.load( \\\n",
    "                      'ultralytics/yolov5', \\\n",
    "                      'yolov5s', \\\n",
    "                      pretrained=True, force_reload=True)"
   ]
  },
  {
   "cell_type": "code",
   "execution_count": 3,
   "metadata": {},
   "outputs": [],
   "source": [
    "\"\"\"\n",
    "The function below identifies the device which is availabe to make the prediction and uses it to load and infer the frame.\n",
    "Once it has results it will extract the labels and cordinates(Along with scores) for each object detected in the frame.\n",
    "\"\"\"\n",
    "def score_frame(frame, model):\n",
    "    device = 'cuda' if torch.cuda.is_available() else 'cpu'\n",
    "    model.to(device)\n",
    "    frame = [torch.tensor(frame)]\n",
    "    results = self.model(frame)\n",
    "    labels = results.xyxyn[0][:, -1].numpy()\n",
    "    cord = results.xyxyn[0][:, :-1].numpy()\n",
    "    return labels, cord"
   ]
  },
  {
   "cell_type": "code",
   "execution_count": 4,
   "metadata": {},
   "outputs": [],
   "source": [
    "\"\"\"\n",
    "The function below takes the results and the frame as input and plots boxes over all the objects which have a score higer than our threshold.\n",
    "\"\"\"\n",
    "def plot_boxes(self, results, frame):\n",
    "    labels, cord = results\n",
    "    n = len(labels)\n",
    "    x_shape, y_shape = frame.shape[1], frame.shape[0]\n",
    "    for i in range(n):\n",
    "        row = cord[i]\n",
    "        # If score is less than 0.2 we avoid making a prediction.\n",
    "        if row[4] < 0.2: \n",
    "            continue\n",
    "        x1 = int(row[0]*x_shape)\n",
    "        y1 = int(row[1]*y_shape)\n",
    "        x2 = int(row[2]*x_shape)\n",
    "        y2 = int(row[3]*y_shape)\n",
    "        bgr = (0, 255, 0) # color of the box\n",
    "        classes = self.model.names # Get the name of label index\n",
    "        label_font = cv2.FONT_HERSHEY_SIMPLEX #Font for the label.\n",
    "        cv2.rectangle(frame, \\\n",
    "                      (x1, y1), (x2, y2), \\\n",
    "                       bgr, 2) #Plot the boxes\n",
    "        cv2.putText(frame,\\\n",
    "                    classes[labels[i]], \\\n",
    "                    (x1, y1), \\\n",
    "                    label_font, 0.9, bgr, 2) #Put a label over box.\n",
    "        return frame"
   ]
  },
  {
   "cell_type": "code",
   "execution_count": null,
   "metadata": {},
   "outputs": [],
   "source": [
    "results = self."
   ]
  },
  {
   "cell_type": "code",
   "execution_count": 7,
   "metadata": {},
   "outputs": [],
   "source": [
    "\"\"\"\n",
    "The Function below oracestrates the entire operation and performs the real-time parsing for video stream.\n",
    "\"\"\"\n",
    "def __call__(self):\n",
    "    player = self.get_video_stream() #Get your video stream.\n",
    "    assert player.isOpened() # Make sure that their is a stream. \n",
    "    #Below code creates a new video writer object to write our\n",
    "    #output stream.\n",
    "    x_shape = int(player.get(cv2.CAP_PROP_FRAME_WIDTH))\n",
    "    y_shape = int(player.get(cv2.CAP_PROP_FRAME_HEIGHT))\n",
    "    four_cc = cv2.VideoWriter_fourcc(*\"MJPG\") #Using MJPEG codex\n",
    "    out = cv2.VideoWriter(out_file, four_cc, 20, \\\n",
    "                          (x_shape, y_shape)) \n",
    "    ret, frame = player.read() # Read the first frame.\n",
    "    while rect: # Run until stream is out of frames\n",
    "        start_time = time() # We would like to measure the FPS.\n",
    "        results = self.score_frame(frame) # Score the Frame\n",
    "        frame = self.plot_boxes(results, frame) # Plot the boxes.\n",
    "        end_time = time()\n",
    "        fps = 1/np.round(end_time - start_time, 3) #Measure the FPS.\n",
    "        print(f\"Frames Per Second : {fps}\")\n",
    "        out.write(frame) # Write the frame onto the output.\n",
    "        ret, frame = player.read() # Read next frame."
   ]
  }
 ],
 "metadata": {
  "interpreter": {
   "hash": "797858c5bc6ce3b61ff6c7055b7efe0eb3e38aa738a2079be3fbfd9351e92dba"
  },
  "kernelspec": {
   "display_name": "Python 3.9.10 64-bit (windows store)",
   "language": "python",
   "name": "python3"
  },
  "language_info": {
   "codemirror_mode": {
    "name": "ipython",
    "version": 3
   },
   "file_extension": ".py",
   "mimetype": "text/x-python",
   "name": "python",
   "nbconvert_exporter": "python",
   "pygments_lexer": "ipython3",
   "version": "3.9.10"
  },
  "orig_nbformat": 4
 },
 "nbformat": 4,
 "nbformat_minor": 2
}

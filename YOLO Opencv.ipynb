{
 "cells": [
  {
   "cell_type": "code",
   "execution_count": 3,
   "metadata": {},
   "outputs": [
    {
     "name": "stderr",
     "output_type": "stream",
     "text": [
      "Using cache found in C:\\Users\\aadha/.cache\\torch\\hub\\ultralytics_yolov5_master\n",
      "YOLOv5  2022-3-7 torch 1.10.2+cpu CPU\n",
      "\n",
      "Fusing layers... \n",
      "Model Summary: 213 layers, 7225885 parameters, 0 gradients, 16.5 GFLOPs\n",
      "Adding AutoShape... \n"
     ]
    },
    {
     "name": "stdout",
     "output_type": "stream",
     "text": [
      "\n",
      "\n",
      "Device Used: cpu\n",
      "Frames Per Second : 1.824817518248175\n",
      "Frames Per Second : 5.58659217877095\n",
      "Frames Per Second : 6.172839506172839\n",
      "Frames Per Second : 6.024096385542168\n",
      "Frames Per Second : 6.25\n",
      "Frames Per Second : 5.813953488372094\n",
      "Frames Per Second : 6.134969325153374\n",
      "Frames Per Second : 6.289308176100628\n",
      "Frames Per Second : 6.4935064935064934\n",
      "Frames Per Second : 5.988023952095808\n",
      "Frames Per Second : 6.410256410256411\n",
      "Frames Per Second : 6.0606060606060606\n",
      "Frames Per Second : 5.988023952095808\n",
      "Frames Per Second : 6.097560975609756\n",
      "Frames Per Second : 6.4935064935064934\n",
      "Frames Per Second : 5.952380952380952\n",
      "Frames Per Second : 6.211180124223603\n",
      "Frames Per Second : 5.780346820809249\n",
      "Frames Per Second : 5.952380952380952\n",
      "Frames Per Second : 6.097560975609756\n",
      "Frames Per Second : 6.289308176100628\n",
      "Frames Per Second : 6.289308176100628\n",
      "Frames Per Second : 6.289308176100628\n",
      "Frames Per Second : 5.405405405405405\n",
      "Frames Per Second : 6.097560975609756\n",
      "Frames Per Second : 6.329113924050633\n",
      "Frames Per Second : 6.329113924050633\n"
     ]
    }
   ],
   "source": [
    "import torch\n",
    "import numpy as np\n",
    "import cv2\n",
    "# import pafy\n",
    "from time import time\n",
    "\n",
    "\n",
    "class ObjectDetection:\n",
    "    \"\"\"\n",
    "    Class implements Yolo5 model to make inferences on a webcam live video using OpenCV.\n",
    "    \"\"\"\n",
    "\n",
    "    def __init__(self):\n",
    "        self.model = self.load_model()\n",
    "        self.classes = self.model.names\n",
    "        self.device = 'cuda' if torch.cuda.is_available() else 'cpu'\n",
    "        print(\"\\n\\nDevice Used:\",self.device)\n",
    "\n",
    "    def get_video_from_webcam(self):\n",
    "\n",
    "        \"\"\"Create video input from webcam\"\"\"\n",
    "        cam = cv2.VideoCapture(0)\n",
    "        return cam\n",
    "\n",
    "\n",
    "    def load_model(self):\n",
    "        \"\"\"\n",
    "        Loads Yolo5 model from pytorch hub.\n",
    "        :return: Pretrained Pytorch model.\n",
    "        \"\"\"\n",
    "        model = torch.hub.load('ultralytics/yolov5', 'yolov5s', pretrained=True)\n",
    "        return model\n",
    "\n",
    "\n",
    "    def score_frame(self, frame):\n",
    "        \"\"\"\n",
    "        Takes a single frame as input, and scores the frame using yolo5 model.\n",
    "        :param frame: input frame in numpy/list/tuple format.\n",
    "        :return: Labels and Coordinates of objects detected by model in the frame.\n",
    "        \"\"\"\n",
    "        self.model.to(self.device)\n",
    "        frame = [frame]\n",
    "        results = self.model(frame)\n",
    "     \n",
    "        labels, cord = results.xyxyn[0][:, -1], results.xyxyn[0][:, :-1]\n",
    "        return labels, cord\n",
    "\n",
    "\n",
    "    def class_to_label(self, x):\n",
    "        \"\"\"\n",
    "        For a given label value, return corresponding string label.\n",
    "        :param x: numeric label\n",
    "        :return: corresponding string label\n",
    "        \"\"\"\n",
    "        return self.classes[int(x)]\n",
    "\n",
    "\n",
    "    def plot_boxes(self, results, frame):\n",
    "        \"\"\"\n",
    "        Takes a frame and its results as input, and plots the bounding boxes and label on to the frame.\n",
    "        :param results: contains labels and coordinates predicted by model on the given frame.\n",
    "        :param frame: Frame which has been scored.\n",
    "        :return: Frame with bounding boxes and labels ploted on it.\n",
    "        \"\"\"\n",
    "        labels, cord = results\n",
    "        n = len(labels)\n",
    "        x_shape, y_shape = frame.shape[1], frame.shape[0]\n",
    "        for i in range(n):\n",
    "            row = cord[i]\n",
    "            if row[4] >= 0.2:\n",
    "                x1, y1, x2, y2 = int(row[0]*x_shape), int(row[1]*y_shape), int(row[2]*x_shape), int(row[3]*y_shape)\n",
    "                bgr = (0, 255, 0)\n",
    "                cv2.rectangle(frame, (x1, y1), (x2, y2), bgr, 2)\n",
    "                cv2.putText(frame, self.class_to_label(labels[i]), (x1, y1), cv2.FONT_HERSHEY_SIMPLEX, 0.9, bgr, 2)\n",
    "\n",
    "        return frame\n",
    "\n",
    "\n",
    "    def __call__(self):\n",
    "        \"\"\"\n",
    "        This function is called when class is executed, it runs the loop to read the video frame by frame,\n",
    "        and write the output into a new file.\n",
    "        :return: void\n",
    "        \"\"\"\n",
    "        player = self.get_video_from_webcam()\n",
    "        while True:\n",
    "            start_time = time()\n",
    "            ret, frame = player.read()\n",
    "            if not ret:\n",
    "                break\n",
    "            results = self.score_frame(frame)\n",
    "            frame = self.plot_boxes(results, frame)\n",
    "            end_time = time()\n",
    "            fps = 1/np.round(end_time - start_time, 3)\n",
    "            print(f\"Frames Per Second : {fps}\")\n",
    "            cv2.imshow(\"video\", frame)\n",
    "            key = cv2.waitKey(1)\n",
    "            if key == ord('q'):\n",
    "                break\n",
    "        cv2.destroyAllWindows()\n",
    "\n",
    "\n",
    "\n",
    "\n",
    "# Create a new object and execute.\n",
    "detection = ObjectDetection()\n",
    "detection()"
   ]
  },
  {
   "cell_type": "code",
   "execution_count": 7,
   "metadata": {},
   "outputs": [
    {
     "name": "stderr",
     "output_type": "stream",
     "text": [
      "Using cache found in C:\\Users\\aadha/.cache\\torch\\hub\\ultralytics_yolov5_master\n",
      "YOLOv5  2022-3-7 torch 1.10.2+cpu CPU\n",
      "\n",
      "Fusing layers... \n",
      "Model Summary: 213 layers, 7225885 parameters, 0 gradients, 16.5 GFLOPs\n",
      "Adding AutoShape... \n"
     ]
    },
    {
     "name": "stdout",
     "output_type": "stream",
     "text": [
      "\n",
      "\n",
      "Device Used: cpu\n"
     ]
    }
   ],
   "source": [
    "detection2 = ObjectDetection()\n",
    "detection2()"
   ]
  },
  {
   "cell_type": "code",
   "execution_count": 2,
   "metadata": {},
   "outputs": [
    {
     "data": {
      "text/plain": [
       "False"
      ]
     },
     "execution_count": 2,
     "metadata": {},
     "output_type": "execute_result"
    }
   ],
   "source": [
    "import torch\n",
    "torch.cuda.is_available()"
   ]
  }
 ],
 "metadata": {
  "interpreter": {
   "hash": "797858c5bc6ce3b61ff6c7055b7efe0eb3e38aa738a2079be3fbfd9351e92dba"
  },
  "kernelspec": {
   "display_name": "Python 3.9.10 64-bit (windows store)",
   "language": "python",
   "name": "python3"
  },
  "language_info": {
   "codemirror_mode": {
    "name": "ipython",
    "version": 3
   },
   "file_extension": ".py",
   "mimetype": "text/x-python",
   "name": "python",
   "nbconvert_exporter": "python",
   "pygments_lexer": "ipython3",
   "version": "3.9.10"
  },
  "orig_nbformat": 4
 },
 "nbformat": 4,
 "nbformat_minor": 2
}
